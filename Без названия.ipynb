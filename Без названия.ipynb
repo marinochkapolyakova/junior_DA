{
 "cells": [
  {
   "cell_type": "markdown",
   "id": "cda5b287",
   "metadata": {},
   "source": [
    "## Тестовое задание на позицию Junior Analyst"
   ]
  },
  {
   "cell_type": "markdown",
   "id": "3b001f82",
   "metadata": {},
   "source": [
    "### 1. Вопросы:"
   ]
  },
  {
   "cell_type": "markdown",
   "id": "595789d6",
   "metadata": {},
   "source": [
    "1) Как хорошо Вы владеете Python? Оцените свой уровень по шкале от 0 до 10, где 0 - совсем не знаю, 10 - владею в совершенстве. Объясните, почему Вы выбрали такой балл."
   ]
  },
  {
   "cell_type": "markdown",
   "id": "04f4c1d6",
   "metadata": {},
   "source": [
    "Я оцениваю свои знания Python на 6,5 из 10.\n",
    "\n",
    "Вот объяснение, почему я выбрала такой балл:\n",
    "\n",
    "Я хорошо владею основным синтаксисом Python и стандартными структурами данных, такими как списки, словари, множества и кортежи.\n",
    "Я знакома с использованием библиотек Python (например, Pandas, Plotly), которые используются для анализа и визуализации данных. У меня есть базовые навыки работы с данными, включая их чтение, очистку и предварительную обработку. \n",
    "\n",
    "Таким образом, я оцениваю свой уровень владения Python как уверенный, но все еще развивающийся, с целью дальнейшего улучшения и углубления знаний."
   ]
  },
  {
   "cell_type": "markdown",
   "id": "c13dd257",
   "metadata": {},
   "source": [
    "2) Насколько хорошо Вы знакомы с Google Sheets? Оцените свой уровень по шкале от 0 до 10, где 0 - совсем не знаю, 10 - владею в совершенстве. Объясните, почему Вы выбрали такой балл."
   ]
  },
  {
   "cell_type": "markdown",
   "id": "f2082f52",
   "metadata": {},
   "source": [
    "Я оцениваю свои знания Google Sheets на 7 из 10.\n",
    "\n",
    "Основным инструментом, которым я пользовалась в работе, был MS Excel, что позволило мне приобрести глубокие знания в области работы с электронными таблицами. Поскольку Google Sheets предоставляет аналогичный набор инструментов, я легко могу применить свой опыт и навыки к этой платформе. Уверенно использую основные функции и формулы, организую данные и успешно справляюсь с задачами. Более того, я готова освоить дополнительные навыки работы с Google Sheets в кратчайшие сроки, чтобы эффективно выполнять поставленные задачи."
   ]
  },
  {
   "cell_type": "markdown",
   "id": "f6596a14",
   "metadata": {},
   "source": [
    "### 2. Задачи на логику:"
   ]
  },
  {
   "cell_type": "raw",
   "id": "d159f9bb",
   "metadata": {},
   "source": [
    "1. Непотраченная часть бюджета равна 4$.\n",
    "2. 4 дня.\n",
    "3. 15 баннеров.\n",
    "4. Предпочтения совпадают у Джона и Тома.\n",
    "5. 88 баллов.\n",
    "6. На 39 минут."
   ]
  },
  {
   "cell_type": "markdown",
   "id": "d93ecfc8",
   "metadata": {},
   "source": [
    "### 3. Техническое задание"
   ]
  },
  {
   "cell_type": "code",
   "execution_count": 5,
   "id": "b9f1bb90",
   "metadata": {},
   "outputs": [],
   "source": [
    "import pandas as pd"
   ]
  },
  {
   "cell_type": "code",
   "execution_count": 111,
   "id": "5ebf9cad",
   "metadata": {},
   "outputs": [
    {
     "data": {
      "text/html": [
       "<div>\n",
       "<style scoped>\n",
       "    .dataframe tbody tr th:only-of-type {\n",
       "        vertical-align: middle;\n",
       "    }\n",
       "\n",
       "    .dataframe tbody tr th {\n",
       "        vertical-align: top;\n",
       "    }\n",
       "\n",
       "    .dataframe thead th {\n",
       "        text-align: right;\n",
       "    }\n",
       "</style>\n",
       "<table border=\"1\" class=\"dataframe\">\n",
       "  <thead>\n",
       "    <tr style=\"text-align: right;\">\n",
       "      <th></th>\n",
       "      <th>client_id</th>\n",
       "      <th>sum</th>\n",
       "      <th>status</th>\n",
       "      <th>sale</th>\n",
       "      <th>new/current</th>\n",
       "      <th>Unnamed: 5</th>\n",
       "      <th>document</th>\n",
       "      <th>receiving_date</th>\n",
       "    </tr>\n",
       "  </thead>\n",
       "  <tbody>\n",
       "    <tr>\n",
       "      <th>0</th>\n",
       "      <td>NaN</td>\n",
       "      <td>NaN</td>\n",
       "      <td>Май 2021</td>\n",
       "      <td>NaN</td>\n",
       "      <td>NaN</td>\n",
       "      <td>NaN</td>\n",
       "      <td>NaN</td>\n",
       "      <td>NaN</td>\n",
       "    </tr>\n",
       "    <tr>\n",
       "      <th>1</th>\n",
       "      <td>6.0</td>\n",
       "      <td>11693.7</td>\n",
       "      <td>ВНУТРЕННИЙ</td>\n",
       "      <td>-</td>\n",
       "      <td>-</td>\n",
       "      <td>NaN</td>\n",
       "      <td>-</td>\n",
       "      <td>-</td>\n",
       "    </tr>\n",
       "    <tr>\n",
       "      <th>2</th>\n",
       "      <td>14.0</td>\n",
       "      <td>5452.7</td>\n",
       "      <td>ОПЛАЧЕНО</td>\n",
       "      <td>Петрова</td>\n",
       "      <td>новая</td>\n",
       "      <td>NaN</td>\n",
       "      <td>оригинал</td>\n",
       "      <td>2021-07-26 00:00:00</td>\n",
       "    </tr>\n",
       "    <tr>\n",
       "      <th>3</th>\n",
       "      <td>15.0</td>\n",
       "      <td>13991.7</td>\n",
       "      <td>ОПЛАЧЕНО</td>\n",
       "      <td>Иванов</td>\n",
       "      <td>текущая</td>\n",
       "      <td>NaN</td>\n",
       "      <td>оригинал</td>\n",
       "      <td>2021-06-08 00:00:00</td>\n",
       "    </tr>\n",
       "    <tr>\n",
       "      <th>4</th>\n",
       "      <td>16.0</td>\n",
       "      <td>719.7</td>\n",
       "      <td>ОПЛАЧЕНО</td>\n",
       "      <td>Иванов</td>\n",
       "      <td>текущая</td>\n",
       "      <td>NaN</td>\n",
       "      <td>оригинал</td>\n",
       "      <td>2021-06-08 00:00:00</td>\n",
       "    </tr>\n",
       "    <tr>\n",
       "      <th>5</th>\n",
       "      <td>18.0</td>\n",
       "      <td>4253.7</td>\n",
       "      <td>ОПЛАЧЕНО</td>\n",
       "      <td>Иванов</td>\n",
       "      <td>текущая</td>\n",
       "      <td>NaN</td>\n",
       "      <td>оригинал</td>\n",
       "      <td>2021-07-07 00:00:00</td>\n",
       "    </tr>\n",
       "    <tr>\n",
       "      <th>6</th>\n",
       "      <td>20.0</td>\n",
       "      <td>5796.7</td>\n",
       "      <td>ОПЛАЧЕНО</td>\n",
       "      <td>Кузнецова</td>\n",
       "      <td>текущая</td>\n",
       "      <td>NaN</td>\n",
       "      <td>оригинал</td>\n",
       "      <td>2021-07-15 00:00:00</td>\n",
       "    </tr>\n",
       "    <tr>\n",
       "      <th>7</th>\n",
       "      <td>21.0</td>\n",
       "      <td>3613.7</td>\n",
       "      <td>ОПЛАЧЕНО</td>\n",
       "      <td>Кузнецова</td>\n",
       "      <td>текущая</td>\n",
       "      <td>NaN</td>\n",
       "      <td>оригинал</td>\n",
       "      <td>2021-10-13 00:00:00</td>\n",
       "    </tr>\n",
       "    <tr>\n",
       "      <th>8</th>\n",
       "      <td>23.0</td>\n",
       "      <td>8511.7</td>\n",
       "      <td>ОПЛАЧЕНО</td>\n",
       "      <td>Андреев</td>\n",
       "      <td>текущая</td>\n",
       "      <td>NaN</td>\n",
       "      <td>оригинал</td>\n",
       "      <td>2021-06-08 00:00:00</td>\n",
       "    </tr>\n",
       "    <tr>\n",
       "      <th>9</th>\n",
       "      <td>24.0</td>\n",
       "      <td>16347.7</td>\n",
       "      <td>ОПЛАЧЕНО</td>\n",
       "      <td>Андреев</td>\n",
       "      <td>новая</td>\n",
       "      <td>NaN</td>\n",
       "      <td>оригинал</td>\n",
       "      <td>2021-06-23 00:00:00</td>\n",
       "    </tr>\n",
       "  </tbody>\n",
       "</table>\n",
       "</div>"
      ],
      "text/plain": [
       "   client_id      sum      status       sale new/current  Unnamed: 5  \\\n",
       "0        NaN      NaN    Май 2021        NaN         NaN         NaN   \n",
       "1        6.0  11693.7  ВНУТРЕННИЙ          -           -         NaN   \n",
       "2       14.0   5452.7    ОПЛАЧЕНО    Петрова       новая         NaN   \n",
       "3       15.0  13991.7    ОПЛАЧЕНО     Иванов     текущая         NaN   \n",
       "4       16.0    719.7    ОПЛАЧЕНО     Иванов     текущая         NaN   \n",
       "5       18.0   4253.7    ОПЛАЧЕНО     Иванов     текущая         NaN   \n",
       "6       20.0   5796.7    ОПЛАЧЕНО  Кузнецова     текущая         NaN   \n",
       "7       21.0   3613.7    ОПЛАЧЕНО  Кузнецова     текущая         NaN   \n",
       "8       23.0   8511.7    ОПЛАЧЕНО    Андреев     текущая         NaN   \n",
       "9       24.0  16347.7    ОПЛАЧЕНО    Андреев       новая         NaN   \n",
       "\n",
       "   document       receiving_date  \n",
       "0       NaN                  NaN  \n",
       "1         -                    -  \n",
       "2  оригинал  2021-07-26 00:00:00  \n",
       "3  оригинал  2021-06-08 00:00:00  \n",
       "4  оригинал  2021-06-08 00:00:00  \n",
       "5  оригинал  2021-07-07 00:00:00  \n",
       "6  оригинал  2021-07-15 00:00:00  \n",
       "7  оригинал  2021-10-13 00:00:00  \n",
       "8  оригинал  2021-06-08 00:00:00  \n",
       "9  оригинал  2021-06-23 00:00:00  "
      ]
     },
     "execution_count": 111,
     "metadata": {},
     "output_type": "execute_result"
    }
   ],
   "source": [
    "data = pd.read_excel('data.xlsx')\n",
    "data.head(10)"
   ]
  },
  {
   "cell_type": "raw",
   "id": "52df0daf",
   "metadata": {},
   "source": [
    "1. Вычислите общую выручку за июль 2021 по тем сделкам, приход денежных средств которых не просрочен."
   ]
  },
  {
   "cell_type": "code",
   "execution_count": 78,
   "id": "e04298a7",
   "metadata": {},
   "outputs": [
    {
     "name": "stdout",
     "output_type": "stream",
     "text": [
      "Общая выручка за июль 2021 по тем сделкам, приход денежных средств которых не просрочен, составила 757830.74\n"
     ]
    }
   ],
   "source": [
    "data['receiving_date'] = pd.to_datetime(data['receiving_date'] , format='%Y-%m-%d', errors='coerce')\n",
    "\n",
    "july_2021 = data[(data['status']== 'ОПЛАЧЕНО') & (data['receiving_date'].dt.year == 2021) \n",
    "                 & (data['receiving_date'].dt.month == 7)]\n",
    "\n",
    "sum_revenue = round(sum(july_2021['sum']), 2)\n",
    "\n",
    "print(f'Общая выручка за июль 2021 по тем сделкам, приход денежных средств которых не просрочен, составила {sum_revenue}.')"
   ]
  },
  {
   "cell_type": "raw",
   "id": "4afbe740",
   "metadata": {},
   "source": [
    "2. Как изменялась выручка компании за рассматриваемый период? Проиллюстрируйте графиком."
   ]
  },
  {
   "cell_type": "code",
   "execution_count": 61,
   "id": "a2443147",
   "metadata": {},
   "outputs": [
    {
     "data": {
      "image/png": "[encoded data removed]",
      "text/plain": [
       "<Figure size 1000x600 with 1 Axes>"
      ]
     },
     "metadata": {},
     "output_type": "display_data"
    }
   ],
   "source": [
    "import matplotlib.pyplot as plt\n",
    "\n",
    "plt.figure(figsize=(10, 6))\n",
    "plt.bar(july_2021['receiving_date'], july_2021['sum'], color='skyblue')\n",
    "\n",
    "plt.xlabel('Дата')\n",
    "plt.ylabel('Сумма выручки')\n",
    "plt.title('Выручка компании в июле 2021 года')\n",
    "\n",
    "plt.xticks(rotation=45)\n",
    "\n",
    "plt.show()"
   ]
  },
  {
   "cell_type": "raw",
   "id": "5e59c51f",
   "metadata": {},
   "source": [
    "3. Кто из менеджеров привлек для компании больше всего денежных средств в сентябре 2021?"
   ]
  },
  {
   "cell_type": "code",
   "execution_count": 82,
   "id": "2f8b9bc8",
   "metadata": {},
   "outputs": [
    {
     "name": "stdout",
     "output_type": "stream",
     "text": [
      "Больше всего денежных средств в сентябре 2021 привлёк Иванов.\n"
     ]
    }
   ],
   "source": [
    "sept_2021 = data[(data['receiving_date'].dt.year == 2021) & (data['receiving_date'].dt.month == 9 )]\n",
    "first_manager = sept_2021[['sale','sum']].sort_values(by = 'sum', ascending=False).iloc[0]\n",
    "\n",
    "print(f'Больше всего денежных средств в сентябре 2021 привлёк {first_manager[\"sale\"]}.')"
   ]
  },
  {
   "cell_type": "raw",
   "id": "7d45a733",
   "metadata": {},
   "source": [
    "4. Какой тип сделок (новая/текущая) был преобладающим в октябре 2021?"
   ]
  },
  {
   "cell_type": "code",
   "execution_count": 87,
   "id": "488ddc41",
   "metadata": {},
   "outputs": [
    {
     "name": "stdout",
     "output_type": "stream",
     "text": [
      "Преобладающий тип сделок в октябре 2021 года: текущая\n"
     ]
    }
   ],
   "source": [
    "oktober_2021 = data[(data['receiving_date'].dt.year == 2021) & (data['receiving_date'].dt.month == 10 )]\n",
    "data_count = data['new/current'].value_counts()\n",
    "predominant_type = data_count.idxmax()\n",
    "print(f'Преобладающий тип сделок в октябре 2021 года: {predominant_type}')"
   ]
  },
  {
   "cell_type": "raw",
   "id": "0636d37b",
   "metadata": {},
   "source": [
    "5. Сколько оригиналов договора по майским сделкам было получено в июне 2021?"
   ]
  },
  {
   "cell_type": "code",
   "execution_count": 96,
   "id": "230c7c46",
   "metadata": {},
   "outputs": [
    {
     "name": "stdout",
     "output_type": "stream",
     "text": [
      "Количество оригиналов договоров по майским сделкам, полученных в июне 2021 года: 0\n"
     ]
    }
   ],
   "source": [
    "may_deals = data[data['status'] == 'Май 2021']\n",
    "june_originals = data[(data['receiving_date'].dt.year == 2021) & (data['receiving_date'].dt.month == 6 ) \n",
    "                      & (may_deals['document'] == 'оригинал')]\n",
    "count_june_originals = june_originals.shape[0]\n",
    "print(f'Количество оригиналов договоров по майским сделкам, полученных в июне 2021 года: {count_june_originals}')"
   ]
  },
  {
   "cell_type": "raw",
   "id": "2dc7ad0e",
   "metadata": {},
   "source": [
    "За каждую заключенную сделку менеджер получает бонус, который рассчитывается\n",
    "следующим образом.\n",
    "1) За новые сделки менеджер получает 7 % от суммы, при условии, что статус\n",
    "оплаты «ОПЛАЧЕНО», а также имеется оригинал подписанного договора с\n",
    "клиентом (в рассматриваемом месяце).\n",
    "2) За текущие сделки менеджер получает 5 % от суммы, если она больше 10 тыс.,\n",
    "и 3 % от суммы, если меньше. При этом статус оплаты может быть любым,\n",
    "кроме «ПРОСРОЧЕНО», а также необходимо наличие оригинала подписанного\n",
    "договора с клиентом (в рассматриваемом месяце).\n",
    "Бонусы по сделкам, оригиналы для которых приходят позже рассматриваемого\n",
    "месяца, считаются остатком на следующий период, который выплачивается по мере\n",
    "прихода оригиналов. Вычислите остаток каждого из менеджеров на 01.07.2021."
   ]
  },
  {
   "cell_type": "code",
   "execution_count": 103,
   "id": "d5b245f9",
   "metadata": {},
   "outputs": [
    {
     "name": "stdout",
     "output_type": "stream",
     "text": [
      "Остаток каждого менеджера на 01.07.2021:\n",
      "         sale     bonus\n",
      "0     Андреев  26175.97\n",
      "1    Васильев   6934.62\n",
      "2      Иванов  22254.25\n",
      "3   Кузнецова  16108.76\n",
      "4    Михайлов    607.07\n",
      "5     Петрова  27753.62\n",
      "6   Селиванов   7102.47\n",
      "7     Смирнов  30073.13\n",
      "8     Соколов   3730.70\n",
      "9  Филимонова  10830.51\n"
     ]
    }
   ],
   "source": [
    "remainder = data[(data['receiving_date'] > '2021-06-30') & \n",
    "                 ((data['status'] != 'ПРОСРОЧЕНО') | \n",
    "                  ((data['new/current'] == 'новая') & (data['status'] == 'ОПЛАЧЕНО'))) &\n",
    "                 (data['document'] == 'оригинал')].copy()\n",
    "\n",
    "def calculate_bonus(row):\n",
    "    if row['new/current'] == 'новая' and row['status'] == 'ОПЛАЧЕНО':\n",
    "        return row['sum'] * 0.07\n",
    "    elif row['new/current'] == 'текущая' and row['status'] != 'ПРОСРОЧЕНО':\n",
    "        if row['sum'] > 10000:\n",
    "            return row['sum'] * 0.05\n",
    "        else:\n",
    "            return row['sum'] * 0.03\n",
    "    return 0\n",
    "\n",
    "\n",
    "remainder['bonus'] = round(remainder.apply(calculate_bonus, axis=1), 2)\n",
    "\n",
    "manager_remainder = remainder.groupby('sale')['bonus'].sum()\n",
    "\n",
    "manager_remainder_df = manager_remainder.reset_index()\n",
    "\n",
    "\n",
    "print(\"Остаток каждого менеджера на 01.07.2021:\")\n",
    "print(manager_remainder_df)"
   ]
  },
  {
   "cell_type": "code",
   "execution_count": null,
   "id": "2e53fd2d",
   "metadata": {},
   "outputs": [],
   "source": []
  }
 ],
 "metadata": {
  "kernelspec": {
   "display_name": "Python 3 (ipykernel)",
   "language": "python",
   "name": "python3"
  },
  "language_info": {
   "codemirror_mode": {
    "name": "ipython",
    "version": 3
   },
   "file_extension": ".py",
   "mimetype": "text/x-python",
   "name": "python",
   "nbconvert_exporter": "python",
   "pygments_lexer": "ipython3",
   "version": "3.11.5"
  }
 },
 "nbformat": 4,
 "nbformat_minor": 5
}
